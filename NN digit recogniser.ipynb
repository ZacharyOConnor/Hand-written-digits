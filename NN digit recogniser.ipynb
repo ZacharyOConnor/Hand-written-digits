{
 "cells": [
  {
   "cell_type": "code",
   "execution_count": 1,
   "metadata": {},
   "outputs": [],
   "source": [
    "import pandas as pd\n",
    "import numpy as np\n",
    "train = pd.read_csv('mnist_train.csv')\n",
    "test = pd.read_csv('mnist_test.csv')"
   ]
  },
  {
   "cell_type": "code",
   "execution_count": 2,
   "metadata": {},
   "outputs": [],
   "source": [
    "validation_set = train.head(10000)\n",
    "training_set = train.tail(50000)"
   ]
  },
  {
   "cell_type": "code",
   "execution_count": 28,
   "metadata": {},
   "outputs": [],
   "source": [
    "YTRAIN = train['label']\n",
    "XTRAIN = train.drop('label', axis=1)"
   ]
  },
  {
   "cell_type": "code",
   "execution_count": 3,
   "metadata": {},
   "outputs": [],
   "source": [
    "y_val = validation_set['label']\n",
    "X_val = validation_set.drop('label', axis=1)\n",
    "y_train = train['label']\n",
    "X_train = train.drop('label', axis=1)\n",
    "y_test = test['label']\n",
    "X_test = test.drop('label', axis=1)"
   ]
  },
  {
   "cell_type": "code",
   "execution_count": 4,
   "metadata": {},
   "outputs": [],
   "source": [
    "learning_rate = 0.0001\n",
    "reg_rate = 0.001\n",
    "training_score = []\n",
    "testing_scores = []\n",
    "reg_iterations = range(1, 6, 1)\n",
    "learn_iterations = range(1, 3, 1)"
   ]
  },
  {
   "cell_type": "code",
   "execution_count": 4,
   "metadata": {},
   "outputs": [],
   "source": [
    "from sklearn.neural_network import MLPClassifier\n",
    "clf = MLPClassifier(solver='sgd', alpha=0.0001)\n",
    "clf.fit(X_train, y_train)\n",
    "\n",
    "my_predictions = clf.predict(X_test)"
   ]
  },
  {
   "cell_type": "markdown",
   "metadata": {},
   "source": [
    "We have the basic model, the MLPClassifier. Now we define 10 different models, train them on the train data, test them on the cross val data and then choose the best performing model on the the cross val data to work with the test data"
   ]
  },
  {
   "cell_type": "markdown",
   "metadata": {},
   "source": [
    "## Baseline"
   ]
  },
  {
   "cell_type": "code",
   "execution_count": 7,
   "metadata": {},
   "outputs": [
    {
     "name": "stdout",
     "output_type": "stream",
     "text": [
      "Accuracy: 0.93730\n"
     ]
    }
   ],
   "source": [
    "print(\"Accuracy: {:.5f}\".format(accuracy_score(y_test, my_predictions)))"
   ]
  },
  {
   "cell_type": "code",
   "execution_count": 6,
   "metadata": {},
   "outputs": [],
   "source": [
    "from sklearn.neural_network import MLPClassifier\n",
    "from sklearn.metrics import accuracy_score"
   ]
  },
  {
   "cell_type": "markdown",
   "metadata": {},
   "source": [
    "experimenting with multiple hidden layers"
   ]
  },
  {
   "cell_type": "code",
   "execution_count": 26,
   "metadata": {},
   "outputs": [],
   "source": [
    "layer_count = [1, 2, 3, 4, 5, 6, 7, 8, 9, 10]"
   ]
  },
  {
   "cell_type": "code",
   "execution_count": 19,
   "metadata": {},
   "outputs": [],
   "source": [
    "training_score = []\n",
    "vaidation_score = []"
   ]
  },
  {
   "cell_type": "code",
   "execution_count": 29,
   "metadata": {},
   "outputs": [],
   "source": [
    "first = (50)\n",
    "second = (50, 50)\n",
    "third = (50, 50, 50)\n",
    "fourth = (50, 50, 50, 50)\n",
    "fifth = (50, 50, 50, 50, 50)\n",
    "sixth = (50, 50, 50, 50, 50, 50)\n",
    "seventh = (50, 50, 50, 50, 50, 50, 50)\n",
    "eighth = (50, 50, 50, 50, 50, 50, 50, 50)\n",
    "ninth = (50, 50, 50, 50, 50, 50, 50, 50, 50)\n",
    "tenth = (50, 50, 50, 50, 50, 50, 50, 50, 50, 50)"
   ]
  },
  {
   "cell_type": "code",
   "execution_count": 21,
   "metadata": {},
   "outputs": [
    {
     "name": "stdout",
     "output_type": "stream",
     "text": [
      "Accuracy on training set: 0.988\n",
      "Accuracy on test set: 0.989\n",
      "Accuracy on training set: 0.992\n",
      "Accuracy on test set: 0.993\n",
      "Accuracy on training set: 0.994\n",
      "Accuracy on test set: 0.996\n",
      "Accuracy on training set: 0.994\n",
      "Accuracy on test set: 0.994\n",
      "Accuracy on training set: 0.994\n",
      "Accuracy on test set: 0.995\n",
      "Accuracy on training set: 0.995\n",
      "Accuracy on test set: 0.994\n",
      "Accuracy on training set: 0.995\n",
      "Accuracy on test set: 0.995\n",
      "Accuracy on training set: 0.994\n",
      "Accuracy on test set: 0.994\n",
      "Accuracy on training set: 0.993\n",
      "Accuracy on test set: 0.993\n",
      "Accuracy on training set: 0.996\n",
      "Accuracy on test set: 0.995\n"
     ]
    }
   ],
   "source": [
    "for i in eval_range:\n",
    "    model = MLPClassifier(random_state=2, alpha = 0.15, hidden_layer_sizes=i, max_iter=500)\n",
    "    model.fit(X_train, y_train)\n",
    "    print(\"Accuracy on training set: {:.3f}\".format(model.score(X_train, y_train)))\n",
    "    print(\"Accuracy on test set: {:.3f}\".format(model.score(X_val, y_val))) \n",
    "    training_score.append(model.score(X_train, y_train))\n",
    "    vaidation_score.append(model.score(X_val, y_val))"
   ]
  },
  {
   "cell_type": "code",
   "execution_count": 22,
   "metadata": {},
   "outputs": [
    {
     "data": {
      "text/plain": [
       "Text(0, 0.5, 'Accuracy')"
      ]
     },
     "execution_count": 22,
     "metadata": {},
     "output_type": "execute_result"
    },
    {
     "data": {
      "image/png": "[encoded data removed]",
      "text/plain": [
       "<Figure size 432x288 with 1 Axes>"
      ]
     },
     "metadata": {
      "needs_background": "light"
     },
     "output_type": "display_data"
    }
   ],
   "source": [
    "df = pd.DataFrame({'Train': training_score, 'Validation': vaidation_score}, index = layer_count) \n",
    "ax = df.plot(lw=2, title='Overfitting, Underfitting or Just Right?')\n",
    "ax.set_xlabel(\"Hidden Layer Count\")\n",
    "ax.set_ylabel(\"Accuracy\")"
   ]
  },
  {
   "cell_type": "markdown",
   "metadata": {},
   "source": [
    "### best performing model on validation data had 99.6% accuracy, so lets test this on the test data"
   ]
  },
  {
   "cell_type": "markdown",
   "metadata": {},
   "source": [
    "also training this model on the full 60000 training examples and using adam solver, better for large training sample sizes"
   ]
  },
  {
   "cell_type": "code",
   "execution_count": null,
   "metadata": {},
   "outputs": [],
   "source": []
  },
  {
   "cell_type": "markdown",
   "metadata": {},
   "source": [
    "## Improved from Baseline"
   ]
  },
  {
   "cell_type": "code",
   "execution_count": 30,
   "metadata": {},
   "outputs": [
    {
     "name": "stdout",
     "output_type": "stream",
     "text": [
      "Accuracy on test set: 0.976\n"
     ]
    }
   ],
   "source": [
    "model = MLPClassifier(random_state=2, alpha = 0.15, hidden_layer_sizes=third, max_iter=500, solver='adam')\n",
    "model.fit(XTRAIN, YTRAIN)\n",
    "print(\"Accuracy on test set: {:.3f}\".format(model.score(X_test, y_test))) "
   ]
  },
  {
   "cell_type": "markdown",
   "metadata": {},
   "source": [
    "doubling hidden layer sizes to see if the accuracy increases"
   ]
  },
  {
   "cell_type": "code",
   "execution_count": 31,
   "metadata": {},
   "outputs": [],
   "source": [
    "first = (100)\n",
    "second = (100, 100)\n",
    "third = (100, 100, 100)\n",
    "fourth = (100, 100, 100, 100)\n",
    "fifth = (100, 100, 100, 100, 100)\n",
    "sixth = (100, 100, 100, 100, 100, 100)\n",
    "seventh = (100, 100, 100, 100, 100, 100, 100)\n",
    "eighth = (100, 100, 100, 100, 100, 100, 100, 100)\n",
    "ninth = (100, 100, 100, 100, 100, 100, 100, 100, 100)\n",
    "tenth = (100, 100, 100, 100, 100, 100, 100, 100, 100, 100)\n",
    "eval_range = [first, second, third, fourth, fifth, sixth, seventh, eighth, ninth, tenth]"
   ]
  },
  {
   "cell_type": "code",
   "execution_count": 9,
   "metadata": {},
   "outputs": [],
   "source": [
    "training_scores = []\n",
    "val_scores = []"
   ]
  },
  {
   "cell_type": "code",
   "execution_count": 11,
   "metadata": {},
   "outputs": [
    {
     "name": "stdout",
     "output_type": "stream",
     "text": [
      "Accuracy on training set: 0.988\n",
      "Accuracy on test set: 0.989\n",
      "Accuracy on training set: 0.992\n",
      "Accuracy on test set: 0.993\n",
      "Accuracy on training set: 0.994\n",
      "Accuracy on test set: 0.996\n",
      "Accuracy on training set: 0.994\n",
      "Accuracy on test set: 0.994\n",
      "Accuracy on training set: 0.994\n",
      "Accuracy on test set: 0.995\n",
      "Accuracy on training set: 0.995\n",
      "Accuracy on test set: 0.994\n",
      "Accuracy on training set: 0.995\n",
      "Accuracy on test set: 0.995\n",
      "Accuracy on training set: 0.994\n",
      "Accuracy on test set: 0.994\n",
      "Accuracy on training set: 0.993\n",
      "Accuracy on test set: 0.993\n",
      "Accuracy on training set: 0.996\n",
      "Accuracy on test set: 0.995\n"
     ]
    }
   ],
   "source": [
    "for i in eval_range:\n",
    "    model = MLPClassifier(random_state=2, alpha = 0.15, hidden_layer_sizes=i, max_iter=1000)\n",
    "    model.fit(X_train, y_train)\n",
    "    print(\"Accuracy on training set: {:.3f}\".format(model.score(X_train, y_train)))\n",
    "    print(\"Accuracy on test set: {:.3f}\".format(model.score(X_val, y_val))) \n",
    "    training_scores.append(model.score(X_train, y_train))\n",
    "    val_scores.append(model.score(X_val, y_val))"
   ]
  },
  {
   "cell_type": "code",
   "execution_count": 15,
   "metadata": {},
   "outputs": [
    {
     "data": {
      "text/plain": [
       "Text(0, 0.5, 'Accuracy')"
      ]
     },
     "execution_count": 15,
     "metadata": {},
     "output_type": "execute_result"
    },
    {
     "data": {
      "image/png": "[encoded data removed]",
      "text/plain": [
       "<Figure size 432x288 with 1 Axes>"
      ]
     },
     "metadata": {
      "needs_background": "light"
     },
     "output_type": "display_data"
    }
   ],
   "source": [
    "df = pd.DataFrame({'Train': training_scores, 'Validation': val_scores}, index = layer_count) \n",
    "ax = df.plot(lw=2, title='Overfitting, Underfitting or Just Right?')\n",
    "ax.set_xlabel(\"Hidden Layer Count\")\n",
    "ax.set_ylabel(\"Accuracy\")"
   ]
  },
  {
   "cell_type": "markdown",
   "metadata": {},
   "source": [
    "Most accurate model again was with 3 hidden layers, lets try this on the test set"
   ]
  },
  {
   "cell_type": "markdown",
   "metadata": {},
   "source": [
    "## Second Improvement attempt"
   ]
  },
  {
   "cell_type": "code",
   "execution_count": 33,
   "metadata": {},
   "outputs": [
    {
     "name": "stdout",
     "output_type": "stream",
     "text": [
      "Accuracy on test set: 0.973\n"
     ]
    }
   ],
   "source": [
    "model = MLPClassifier(random_state=2, alpha = 0.15, hidden_layer_sizes=third, max_iter=1000, solver='adam')\n",
    "model.fit(XTRAIN, YTRAIN)\n",
    "print(\"Accuracy on test set: {:.3f}\".format(model.score(X_test,y_test)))"
   ]
  },
  {
   "cell_type": "code",
   "execution_count": null,
   "metadata": {},
   "outputs": [],
   "source": [
    "model1 = MLPClassifier(hidden_layer_sizes=(150, 100, 50), max_iter = 200, solver='sgd')\n",
    "model1.fit(X_train, y_train)\n",
    "model1_pred = model1.predict(X_val)\n",
    "print(\"Accuracy: {:.4f}\".format(accuracy_score(y_val, model1_pred)))"
   ]
  },
  {
   "cell_type": "code",
   "execution_count": 9,
   "metadata": {},
   "outputs": [
    {
     "name": "stdout",
     "output_type": "stream",
     "text": [
      "Accuracy: 0.99400\n"
     ]
    }
   ],
   "source": [
    "print(\"Accuracy: {:.5f}\".format(accuracy_score(y_val, model1_pred)))"
   ]
  },
  {
   "cell_type": "code",
   "execution_count": 11,
   "metadata": {},
   "outputs": [
    {
     "name": "stderr",
     "output_type": "stream",
     "text": [
      "C:\\Users\\zacha\\Anaconda3\\lib\\site-packages\\sklearn\\neural_network\\_multilayer_perceptron.py:571: ConvergenceWarning: Stochastic Optimizer: Maximum iterations (200) reached and the optimization hasn't converged yet.\n",
      "  % self.max_iter, ConvergenceWarning)\n"
     ]
    },
    {
     "name": "stdout",
     "output_type": "stream",
     "text": [
      "Accuracy: 0.9759\n"
     ]
    }
   ],
   "source": [
    "model2 = MLPClassifier(hidden_layer_sizes=(150), max_iter = 200, solver='sgd')\n",
    "model2.fit(X_train, y_train)\n",
    "model2_pred = model2.predict(X_val)\n",
    "print(\"Accuracy: {:.4f}\".format(accuracy_score(y_val, model2_pred)))"
   ]
  },
  {
   "cell_type": "code",
   "execution_count": 12,
   "metadata": {},
   "outputs": [
    {
     "name": "stdout",
     "output_type": "stream",
     "text": [
      "Accuracy: 0.9865\n"
     ]
    }
   ],
   "source": [
    "model3 = MLPClassifier(hidden_layer_sizes=(100, 50, 25), max_iter = 200, solver='sgd')\n",
    "model3.fit(X_train, y_train)\n",
    "model3_pred = model3.predict(X_val)\n",
    "print(\"Accuracy: {:.4f}\".format(accuracy_score(y_val, model3_pred)))"
   ]
  },
  {
   "cell_type": "code",
   "execution_count": 13,
   "metadata": {},
   "outputs": [
    {
     "name": "stderr",
     "output_type": "stream",
     "text": [
      "C:\\Users\\zacha\\Anaconda3\\lib\\site-packages\\sklearn\\neural_network\\_multilayer_perceptron.py:571: ConvergenceWarning: Stochastic Optimizer: Maximum iterations (100) reached and the optimization hasn't converged yet.\n",
      "  % self.max_iter, ConvergenceWarning)\n"
     ]
    },
    {
     "name": "stdout",
     "output_type": "stream",
     "text": [
      "Accuracy: 0.9940\n"
     ]
    }
   ],
   "source": [
    "model4 = MLPClassifier(hidden_layer_sizes=(150, 100, 50), max_iter = 100, solver='sgd')\n",
    "model4.fit(X_train, y_train)\n",
    "model4_pred = model4.predict(X_val)\n",
    "print(\"Accuracy: {:.4f}\".format(accuracy_score(y_val, model4_pred)))"
   ]
  },
  {
   "cell_type": "code",
   "execution_count": 14,
   "metadata": {},
   "outputs": [
    {
     "name": "stdout",
     "output_type": "stream",
     "text": [
      "Accuracy: 0.9737\n"
     ]
    },
    {
     "name": "stderr",
     "output_type": "stream",
     "text": [
      "C:\\Users\\zacha\\Anaconda3\\lib\\site-packages\\sklearn\\neural_network\\_multilayer_perceptron.py:571: ConvergenceWarning: Stochastic Optimizer: Maximum iterations (100) reached and the optimization hasn't converged yet.\n",
      "  % self.max_iter, ConvergenceWarning)\n"
     ]
    }
   ],
   "source": [
    "model5 = MLPClassifier(hidden_layer_sizes=(150), max_iter = 100, solver='sgd')\n",
    "model5.fit(X_train, y_train)\n",
    "model5_pred = model5.predict(X_val)\n",
    "print(\"Accuracy: {:.4f}\".format(accuracy_score(y_val, model5_pred)))"
   ]
  },
  {
   "cell_type": "code",
   "execution_count": 15,
   "metadata": {},
   "outputs": [
    {
     "name": "stdout",
     "output_type": "stream",
     "text": [
      "Accuracy: 0.9847\n"
     ]
    },
    {
     "name": "stderr",
     "output_type": "stream",
     "text": [
      "C:\\Users\\zacha\\Anaconda3\\lib\\site-packages\\sklearn\\neural_network\\_multilayer_perceptron.py:571: ConvergenceWarning: Stochastic Optimizer: Maximum iterations (100) reached and the optimization hasn't converged yet.\n",
      "  % self.max_iter, ConvergenceWarning)\n"
     ]
    }
   ],
   "source": [
    "model6 = MLPClassifier(hidden_layer_sizes=(100, 50, 25), max_iter = 100, solver='sgd')\n",
    "model6.fit(X_train, y_train)\n",
    "model6_pred = model6.predict(X_val)\n",
    "print(\"Accuracy: {:.4f}\".format(accuracy_score(y_val, model6_pred)))"
   ]
  },
  {
   "cell_type": "code",
   "execution_count": 6,
   "metadata": {},
   "outputs": [
    {
     "name": "stdout",
     "output_type": "stream",
     "text": [
      "Val Accuracy: 0.9945\n"
     ]
    }
   ],
   "source": [
    "model7 = MLPClassifier(hidden_layer_sizes=(100, 100, 50, 50), max_iter = 200, solver='sgd')\n",
    "model7.fit(X_train, y_train)\n",
    "model7_pred = model7.predict(X_val)\n",
    "print(\"Val Accuracy: {:.4f}\".format(accuracy_score(y_val, model7_pred)))\n"
   ]
  },
  {
   "cell_type": "code",
   "execution_count": 7,
   "metadata": {},
   "outputs": [
    {
     "name": "stdout",
     "output_type": "stream",
     "text": [
      "Test Accuracy: 0.9620\n"
     ]
    }
   ],
   "source": [
    "predictions = model7.predict(X_test)\n",
    "print(\"Test Accuracy: {:.4f}\".format(accuracy_score(y_test, predictions)))"
   ]
  },
  {
   "cell_type": "code",
   "execution_count": 5,
   "metadata": {},
   "outputs": [
    {
     "name": "stderr",
     "output_type": "stream",
     "text": [
      "C:\\Users\\zacha\\Anaconda3\\lib\\site-packages\\sklearn\\neural_network\\_multilayer_perceptron.py:571: ConvergenceWarning: Stochastic Optimizer: Maximum iterations (200) reached and the optimization hasn't converged yet.\n",
      "  % self.max_iter, ConvergenceWarning)\n"
     ]
    },
    {
     "name": "stdout",
     "output_type": "stream",
     "text": [
      "Acc on training set: 0.989\n",
      "Acc on test set: 0.947\n"
     ]
    },
    {
     "name": "stderr",
     "output_type": "stream",
     "text": [
      "C:\\Users\\zacha\\Anaconda3\\lib\\site-packages\\sklearn\\neural_network\\_multilayer_perceptron.py:571: ConvergenceWarning: Stochastic Optimizer: Maximum iterations (200) reached and the optimization hasn't converged yet.\n",
      "  % self.max_iter, ConvergenceWarning)\n"
     ]
    },
    {
     "name": "stdout",
     "output_type": "stream",
     "text": [
      "Acc on training set: 0.987\n",
      "Acc on test set: 0.946\n"
     ]
    },
    {
     "name": "stderr",
     "output_type": "stream",
     "text": [
      "C:\\Users\\zacha\\Anaconda3\\lib\\site-packages\\sklearn\\neural_network\\_multilayer_perceptron.py:571: ConvergenceWarning: Stochastic Optimizer: Maximum iterations (200) reached and the optimization hasn't converged yet.\n",
      "  % self.max_iter, ConvergenceWarning)\n"
     ]
    },
    {
     "name": "stdout",
     "output_type": "stream",
     "text": [
      "Acc on training set: 0.987\n",
      "Acc on test set: 0.948\n"
     ]
    },
    {
     "name": "stderr",
     "output_type": "stream",
     "text": [
      "C:\\Users\\zacha\\Anaconda3\\lib\\site-packages\\sklearn\\neural_network\\_multilayer_perceptron.py:571: ConvergenceWarning: Stochastic Optimizer: Maximum iterations (200) reached and the optimization hasn't converged yet.\n",
      "  % self.max_iter, ConvergenceWarning)\n"
     ]
    },
    {
     "name": "stdout",
     "output_type": "stream",
     "text": [
      "Acc on training set: 0.990\n",
      "Acc on test set: 0.949\n"
     ]
    },
    {
     "name": "stderr",
     "output_type": "stream",
     "text": [
      "C:\\Users\\zacha\\Anaconda3\\lib\\site-packages\\sklearn\\neural_network\\_multilayer_perceptron.py:571: ConvergenceWarning: Stochastic Optimizer: Maximum iterations (200) reached and the optimization hasn't converged yet.\n",
      "  % self.max_iter, ConvergenceWarning)\n"
     ]
    },
    {
     "name": "stdout",
     "output_type": "stream",
     "text": [
      "Acc on training set: 0.989\n",
      "Acc on test set: 0.948\n"
     ]
    }
   ],
   "source": [
    "from sklearn.neural_network import MLPClassifier\n",
    "for i in reg_iterations:\n",
    "    mlp = MLPClassifier(solver='sgd', alpha=reg_rate, learning_rate='constant', learning_rate_init=learning_rate)\n",
    "    mlp.fit(X_train, y_train)\n",
    "    print(\"Acc on training set: {:.3f}\".format(mlp.score(X_train, y_train)))\n",
    "    print(\"Acc on test set: {:.3f}\".format(mlp.score(X_test, y_test)))\n",
    "\n",
    "    training_score.append(mlp.score(X_train, y_train))\n",
    "    testing_scores.append(mlp.score(X_test, y_test))\n",
    "    #learning_rate *= 3\n",
    "    reg_rate *= 3"
   ]
  },
  {
   "cell_type": "markdown",
   "metadata": {},
   "source": [
    "We have the basic model, the MLPClassifier. Now we define 10 different models, train them on the train data, test them on the cross val data and then choose the best performing model on the the cross val data to work with the test data"
   ]
  },
  {
   "cell_type": "code",
   "execution_count": 7,
   "metadata": {},
   "outputs": [
    {
     "name": "stdout",
     "output_type": "stream",
     "text": [
      "AxesSubplot(0.125,0.125;0.775x0.755)\n"
     ]
    },
    {
     "data": {
      "image/png": "[encoded data removed]",
      "text/plain": [
       "<Figure size 432x288 with 1 Axes>"
      ]
     },
     "metadata": {
      "needs_background": "light"
     },
     "output_type": "display_data"
    }
   ],
   "source": [
    "reg_rate = [0.001, 0.003, 0.009, 0.027, 0.081]\n",
    "df = pd.DataFrame({'Train': training_score, 'Test': testing_scores}, index = reg_rate) \n",
    "ax = df.plot(lw=2, title='Overfitting')\n",
    "ax.set_xlabel(\"Units\")\n",
    "ax.set_ylabel(\"Accuracy\")\n",
    "print(ax)"
   ]
  },
  {
   "cell_type": "markdown",
   "metadata": {},
   "source": [
    "Overfitting slightly?"
   ]
  },
  {
   "cell_type": "markdown",
   "metadata": {},
   "source": [
    "using a different solver based on sgd but optimised for large datasets"
   ]
  },
  {
   "cell_type": "code",
   "execution_count": 8,
   "metadata": {},
   "outputs": [
    {
     "name": "stdout",
     "output_type": "stream",
     "text": [
      "Accuracy: 0.9958\n"
     ]
    }
   ],
   "source": [
    "model8 = MLPClassifier(hidden_layer_sizes=(100, 100, 50, 50), max_iter = 200, solver='adam')\n",
    "model8.fit(X_train, y_train)\n",
    "model8_pred = model8.predict(X_val)\n",
    "print(\"Val Accuracy: {:.4f}\".format(accuracy_score(y_val, model8_pred)))\n"
   ]
  },
  {
   "cell_type": "code",
   "execution_count": 9,
   "metadata": {},
   "outputs": [
    {
     "name": "stdout",
     "output_type": "stream",
     "text": [
      "Test Accuracy: 0.9759\n"
     ]
    }
   ],
   "source": [
    "predictions_8 = model8.predict(X_test)\n",
    "print(\"Test Accuracy: {:.4f}\".format(accuracy_score(y_test, predictions_8)))"
   ]
  },
  {
   "cell_type": "code",
   "execution_count": null,
   "metadata": {},
   "outputs": [],
   "source": []
  }
 ],
 "metadata": {
  "kernelspec": {
   "display_name": "Python 3 (ipykernel)",
   "language": "python",
   "name": "python3"
  },
  "language_info": {
   "codemirror_mode": {
    "name": "ipython",
    "version": 3
   },
   "file_extension": ".py",
   "mimetype": "text/x-python",
   "name": "python",
   "nbconvert_exporter": "python",
   "pygments_lexer": "ipython3",
   "version": "3.11.5"
  }
 },
 "nbformat": 4,
 "nbformat_minor": 2
}
