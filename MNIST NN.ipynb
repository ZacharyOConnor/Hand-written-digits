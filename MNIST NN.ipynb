{
 "cells": [
  {
   "cell_type": "markdown",
   "metadata": {},
   "source": [
    "Loading in data and splitting it into train test and validation sets"
   ]
  },
  {
   "cell_type": "code",
   "execution_count": 18,
   "metadata": {},
   "outputs": [],
   "source": [
    "import pandas as pd\n",
    "import numpy as np\n",
    "train = pd.read_csv('mnist_train.csv')\n",
    "test = pd.read_csv('mnist_test.csv')"
   ]
  },
  {
   "cell_type": "code",
   "execution_count": 19,
   "metadata": {},
   "outputs": [],
   "source": [
    "validation_set = train.head(10000)\n",
    "training_set = train.tail(50000)"
   ]
  },
  {
   "cell_type": "code",
   "execution_count": 20,
   "metadata": {},
   "outputs": [],
   "source": [
    "y_val = validation_set['label']\n",
    "X_val = validation_set.drop('label', axis=1)\n",
    "\n",
    "y_train = training_set['label']\n",
    "X_train = training_set.drop('label', axis=1)\n",
    "\n",
    "y_test = test['label']\n",
    "X_test = test.drop('label', axis=1)"
   ]
  },
  {
   "cell_type": "markdown",
   "metadata": {},
   "source": [
    "Importing basic model and getting a baseline on the test data to improve on"
   ]
  },
  {
   "cell_type": "code",
   "execution_count": 21,
   "metadata": {},
   "outputs": [],
   "source": [
    "from sklearn.neural_network import MLPClassifier\n",
    "from sklearn.metrics import accuracy_score\n",
    "#basic_model = MLPClassifier(solver='sgd')\n",
    "\n",
    "trainy = train['label']\n",
    "trainX = train.drop('label', axis=1)\n",
    "\n",
    "#basic_model.fit(trainX, trainy)"
   ]
  },
  {
   "cell_type": "code",
   "execution_count": 6,
   "metadata": {},
   "outputs": [
    {
     "name": "stdout",
     "output_type": "stream",
     "text": [
      "Accuracy: 0.9346\n"
     ]
    }
   ],
   "source": [
    "basic_model_predictions = basic_model.predict(X_test)\n",
    "accuracy_score(y_test, basic_model_predictions)\n",
    "print(\"Accuracy: {:.4}\".format(accuracy_score(y_test, basic_model_predictions)))"
   ]
  },
  {
   "cell_type": "code",
   "execution_count": 7,
   "metadata": {},
   "outputs": [
    {
     "data": {
      "text/plain": [
       "array([[ 950,    2,    3,    0,    4,    1,    6,    3,    4,    7],\n",
       "       [   1, 1117,    3,    5,    0,    1,    1,    3,    4,    0],\n",
       "       [   5,    5,  944,   23,    6,    2,    7,   15,   16,    9],\n",
       "       [   1,    2,   19,  934,    1,   16,    0,    9,   17,   11],\n",
       "       [   3,    2,    4,    0,  912,    0,    7,    4,    4,   46],\n",
       "       [   5,    1,    1,   44,    2,  789,   10,    3,   18,   19],\n",
       "       [   8,    2,    3,    0,    6,   13,  905,    2,   10,    9],\n",
       "       [   2,    8,   18,   13,    6,    0,    0,  960,    1,   20],\n",
       "       [   8,    7,    9,   23,    8,   13,    5,    6,  879,   16],\n",
       "       [   4,    6,    1,    3,   14,    5,    1,    8,   11,  956]],\n",
       "      dtype=int64)"
      ]
     },
     "execution_count": 7,
     "metadata": {},
     "output_type": "execute_result"
    }
   ],
   "source": [
    "from sklearn.metrics import confusion_matrix\n",
    "confusion_matrix(y_test, basic_model_predictions)"
   ]
  },
  {
   "cell_type": "markdown",
   "metadata": {},
   "source": [
    "### To try and improve on that, lets tweak the parameters and train several models testing each one against the validation data. Change activation to logistic (logistic regression problem), solver to adam (optimised for large datasets)\n",
    "\n",
    "### The one that performs best on the validation data is tested on the test data. Depending on how this performs we may increase/decrease the bias/variance"
   ]
  },
  {
   "cell_type": "markdown",
   "metadata": {},
   "source": [
    "print example of number and show the model correctly predicting the label\n",
    "maybey try using adam as solver? optimised version of sgd that performs well on large datasets with 1000s of examples"
   ]
  },
  {
   "cell_type": "code",
   "execution_count": 22,
   "metadata": {},
   "outputs": [
    {
     "name": "stdout",
     "output_type": "stream",
     "text": [
      "Latest model:\n",
      "Hidden Layer Count:  2\n",
      "\n",
      "Accuracy on training set: 0.9712\n",
      "Accuracy on val set: 0.9617\n",
      "Latest model:\n",
      "Hidden Layer Count:  2\n",
      "\n",
      "Accuracy on training set: 0.9733\n",
      "Accuracy on val set: 0.9654\n",
      "Latest model:\n",
      "Hidden Layer Count:  2\n",
      "\n",
      "Accuracy on training set: 0.9787\n",
      "Accuracy on val set: 0.9686\n",
      "Latest model:\n",
      "Hidden Layer Count:  2\n",
      "\n",
      "Accuracy on training set: 0.9643\n",
      "Accuracy on val set: 0.9596\n",
      "Latest model:\n",
      "Hidden Layer Count:  2\n",
      "\n",
      "Accuracy on training set: 0.9811\n",
      "Accuracy on val set: 0.9722\n"
     ]
    }
   ],
   "source": [
    "first = (784, 50)\n",
    "second = (784, 250, 50)\n",
    "third = (784, 350, 100, 50)\n",
    "fourth = (784, 300, 150, 75, 50)\n",
    "fifth = (784, 500, 300, 150, 75, 50)\n",
    "hidden_layer_size_range = [first, second, third, fourth, fifth]\n",
    "\n",
    "training_accuracy = []\n",
    "val_scores = []\n",
    "\n",
    "for i in hidden_layer_size_range:\n",
    "    count = 2\n",
    "    model = MLPClassifier(hidden_layer_sizes= i, activation='logistic', solver='adam', max_iter=1000, early_stopping=True)\n",
    "    model.fit(X_train, y_train)\n",
    "    print(\"Latest model:\")\n",
    "    print(\"Hidden Layer Count: \", count)\n",
    "    print(\"\")\n",
    "    print(\"Accuracy on training set: {:.4f}\".format(model.score(X_train, y_train)))\n",
    "    print(\"Accuracy on val set: {:.4f}\".format(model.score(X_val, y_val)))\n",
    "    training_accuracy.append(model.score(X_train, y_train))\n",
    "    val_scores.append(model.score(X_val, y_val))\n",
    "    #model_accuracy = accuracy_score(y_val, model_val_predictions)\n",
    "    #model_val_predictions = model.predict()\n",
    "   \n",
    "    #print(\"Model Accuracy: {:.4}\".format(accuracy_score(y_val, model_val_predictions)))\n",
    "    count += 1"
   ]
  },
  {
   "cell_type": "code",
   "execution_count": 25,
   "metadata": {},
   "outputs": [
    {
     "data": {
      "text/plain": [
       "Text(0, 0.5, 'Accuracy Score')"
      ]
     },
     "execution_count": 25,
     "metadata": {},
     "output_type": "execute_result"
    },
    {
     "data": {
      "image/png": "[encoded data removed]",
      "text/plain": [
       "<Figure size 432x288 with 1 Axes>"
      ]
     },
     "metadata": {
      "needs_background": "light"
     },
     "output_type": "display_data"
    }
   ],
   "source": [
    "num_hidden_layers = [2, 3, 4, 5, 6]\n",
    "model_df = pd.DataFrame({'Train': training_accuracy, 'Val': val_scores}, index = num_hidden_layers)\n",
    "\n",
    "ax = model_df.plot(lw=2, title='Training Error VS Validation Error')\n",
    "ax.set_xlabel(\"Hidden layer count\")\n",
    "ax.set_ylabel(\"Accuracy Score\")"
   ]
  },
  {
   "cell_type": "markdown",
   "metadata": {},
   "source": [
    "### 6 layer model had highest val score, so use this"
   ]
  },
  {
   "cell_type": "code",
   "execution_count": 26,
   "metadata": {},
   "outputs": [
    {
     "name": "stdout",
     "output_type": "stream",
     "text": [
      "Accuracy: 0.9652\n"
     ]
    }
   ],
   "source": [
    "final_model = MLPClassifier(hidden_layer_sizes= (784, 500, 300, 150, 75, 50), activation='logistic', solver='adam', max_iter=1000, early_stopping=True)\n",
    "final_model.fit(trainX, trainy)\n",
    "final_model_predictions = final_model.predict(X_test)\n",
    "final_model_predictions_accuracy = accuracy_score(y_test, final_model_predictions)\n",
    "print(\"Accuracy: {:.4}\".format(final_model_predictions_accuracy))"
   ]
  },
  {
   "cell_type": "code",
   "execution_count": 11,
   "metadata": {},
   "outputs": [],
   "source": [
    "import matplotlib.pyplot as plt"
   ]
  },
  {
   "cell_type": "code",
   "execution_count": 15,
   "metadata": {},
   "outputs": [
    {
     "data": {
      "image/png": "[encoded data removed]",
      "text/plain": [
       "<Figure size 432x288 with 1 Axes>"
      ]
     },
     "metadata": {
      "needs_background": "light"
     },
     "output_type": "display_data"
    }
   ],
   "source": [
    "plt.imshow(x_train[0])\n",
    "plt.show()"
   ]
  },
  {
   "cell_type": "code",
   "execution_count": 4,
   "metadata": {},
   "outputs": [
    {
     "name": "stdout",
     "output_type": "stream",
     "text": [
      "\u001b[1mDownloading and preparing dataset Unknown size (download: Unknown size, generated: Unknown size, total: Unknown size) to C:\\Users\\zachary.oconnor\\tensorflow_datasets\\mnist\\3.0.1...\u001b[0m\n"
     ]
    },
    {
     "data": {
      "application/vnd.jupyter.widget-view+json": {
       "model_id": "7bb336a1b07841a3ba0016cc68838775",
       "version_major": 2,
       "version_minor": 0
      },
      "text/plain": [
       "Dl Completed...: 0 url [00:00, ? url/s]"
      ]
     },
     "metadata": {},
     "output_type": "display_data"
    },
    {
     "data": {
      "application/vnd.jupyter.widget-view+json": {
       "model_id": "fa98ffb3f1ed4960be03db41339d7fa4",
       "version_major": 2,
       "version_minor": 0
      },
      "text/plain": [
       "Dl Size...: 0 MiB [00:00, ? MiB/s]"
      ]
     },
     "metadata": {},
     "output_type": "display_data"
    },
    {
     "data": {
      "application/vnd.jupyter.widget-view+json": {
       "model_id": "2cff02748a1d40ae87552af8dfdb0d13",
       "version_major": 2,
       "version_minor": 0
      },
      "text/plain": [
       "Extraction completed...: 0 file [00:00, ? file/s]"
      ]
     },
     "metadata": {},
     "output_type": "display_data"
    },
    {
     "data": {
      "application/vnd.jupyter.widget-view+json": {
       "model_id": "",
       "version_major": 2,
       "version_minor": 0
      },
      "text/plain": [
       "Generating splits...:   0%|          | 0/2 [00:00<?, ? splits/s]"
      ]
     },
     "metadata": {},
     "output_type": "display_data"
    },
    {
     "data": {
      "application/vnd.jupyter.widget-view+json": {
       "model_id": "",
       "version_major": 2,
       "version_minor": 0
      },
      "text/plain": [
       "Generating train examples...: 0 examples [00:00, ? examples/s]"
      ]
     },
     "metadata": {},
     "output_type": "display_data"
    },
    {
     "data": {
      "application/vnd.jupyter.widget-view+json": {
       "model_id": "",
       "version_major": 2,
       "version_minor": 0
      },
      "text/plain": [
       "Shuffling C:\\Users\\zachary.oconnor\\tensorflow_datasets\\mnist\\3.0.1.incompleteFC4L6T\\mnist-train.tfrecord*...: …"
      ]
     },
     "metadata": {},
     "output_type": "display_data"
    },
    {
     "data": {
      "application/vnd.jupyter.widget-view+json": {
       "model_id": "",
       "version_major": 2,
       "version_minor": 0
      },
      "text/plain": [
       "Generating test examples...: 0 examples [00:00, ? examples/s]"
      ]
     },
     "metadata": {},
     "output_type": "display_data"
    },
    {
     "data": {
      "application/vnd.jupyter.widget-view+json": {
       "model_id": "",
       "version_major": 2,
       "version_minor": 0
      },
      "text/plain": [
       "Shuffling C:\\Users\\zachary.oconnor\\tensorflow_datasets\\mnist\\3.0.1.incompleteFC4L6T\\mnist-test.tfrecord*...:  …"
      ]
     },
     "metadata": {},
     "output_type": "display_data"
    },
    {
     "name": "stdout",
     "output_type": "stream",
     "text": [
      "\u001b[1mDataset mnist downloaded and prepared to C:\\Users\\zachary.oconnor\\tensorflow_datasets\\mnist\\3.0.1. Subsequent calls will reuse this data.\u001b[0m\n"
     ]
    }
   ],
   "source": [
    "import tensorflow as tf\n",
    "import tensorflow_datasets as tfds\n",
    "\n",
    "(training_set, testing_set), info = tfds.load(\n",
    "    'mnist',\n",
    "    split=['train', 'test'],\n",
    "    shuffle_files=True,\n",
    "    as_supervised=True,\n",
    "    with_info=True,\n",
    ")"
   ]
  },
  {
   "cell_type": "code",
   "execution_count": 5,
   "metadata": {},
   "outputs": [],
   "source": [
    "def normalize_img(image, label):\n",
    "  # Normalizes images: `uint8` -> `float32`.\n",
    "  return tf.cast(image, tf.float32) / 255., label\n",
    "\n",
    "training_set = training_set.map(\n",
    "    normalize_img, num_parallel_calls=tf.data.AUTOTUNE)\n",
    "training_set = training_set.cache()\n",
    "training_set = training_set.shuffle(info.splits['train'].num_examples)\n",
    "training_set = training_set.batch(128)\n",
    "training_set = training_set.prefetch(tf.data.AUTOTUNE)"
   ]
  },
  {
   "cell_type": "code",
   "execution_count": 17,
   "metadata": {},
   "outputs": [
    {
     "data": {
      "text/plain": [
       "tensorflow.python.data.ops.dataset_ops.PrefetchDataset"
      ]
     },
     "execution_count": 17,
     "metadata": {},
     "output_type": "execute_result"
    }
   ],
   "source": [
    "type(training_set)"
   ]
  },
  {
   "cell_type": "code",
   "execution_count": 18,
   "metadata": {},
   "outputs": [
    {
     "data": {
      "text/plain": [
       "<PrefetchDataset shapes: ((None, 28, 28, 1), (None,)), types: (tf.float32, tf.int64)>"
      ]
     },
     "execution_count": 18,
     "metadata": {},
     "output_type": "execute_result"
    }
   ],
   "source": [
    "training_set"
   ]
  },
  {
   "cell_type": "code",
   "execution_count": 6,
   "metadata": {},
   "outputs": [],
   "source": [
    "testing_set = testing_set.map(\n",
    "    normalize_img, num_parallel_calls=tf.data.AUTOTUNE)\n",
    "testing_set = testing_set.batch(128)\n",
    "testing_set = testing_set.cache()\n",
    "testing_set = testing_set.prefetch(tf.data.AUTOTUNE)"
   ]
  },
  {
   "cell_type": "code",
   "execution_count": 16,
   "metadata": {},
   "outputs": [],
   "source": [
    "model = tf.keras.models.Sequential([\n",
    "  tf.keras.layers.Flatten(input_shape=(28, 28)),\n",
    "  tf.keras.layers.Dense(128, activation='relu'),\n",
    "  tf.keras.layers.Dense(10)\n",
    "])"
   ]
  },
  {
   "cell_type": "code",
   "execution_count": 8,
   "metadata": {},
   "outputs": [],
   "source": [
    "model.compile(\n",
    "    optimizer=tf.keras.optimizers.Adam(0.001),\n",
    "    loss=tf.keras.losses.SparseCategoricalCrossentropy(from_logits=True),\n",
    "    metrics=[tf.keras.metrics.SparseCategoricalAccuracy()],\n",
    ")"
   ]
  },
  {
   "cell_type": "code",
   "execution_count": 10,
   "metadata": {},
   "outputs": [
    {
     "name": "stdout",
     "output_type": "stream",
     "text": [
      "Epoch 1/6\n",
      "469/469 [==============================] - 3s 3ms/step - loss: 0.3602 - sparse_categorical_accuracy: 0.9000 - val_loss: 0.1943 - val_sparse_categorical_accuracy: 0.9438\n",
      "Epoch 2/6\n",
      "469/469 [==============================] - 1s 2ms/step - loss: 0.1687 - sparse_categorical_accuracy: 0.9528 - val_loss: 0.1441 - val_sparse_categorical_accuracy: 0.9568\n",
      "Epoch 3/6\n",
      "469/469 [==============================] - 1s 2ms/step - loss: 0.1207 - sparse_categorical_accuracy: 0.9656 - val_loss: 0.1092 - val_sparse_categorical_accuracy: 0.9675\n",
      "Epoch 4/6\n",
      "469/469 [==============================] - 1s 2ms/step - loss: 0.0934 - sparse_categorical_accuracy: 0.9733 - val_loss: 0.0981 - val_sparse_categorical_accuracy: 0.9715\n",
      "Epoch 5/6\n",
      "469/469 [==============================] - 1s 2ms/step - loss: 0.0754 - sparse_categorical_accuracy: 0.9774 - val_loss: 0.0950 - val_sparse_categorical_accuracy: 0.9717\n",
      "Epoch 6/6\n",
      "469/469 [==============================] - 1s 2ms/step - loss: 0.0620 - sparse_categorical_accuracy: 0.9819 - val_loss: 0.0831 - val_sparse_categorical_accuracy: 0.9758\n"
     ]
    },
    {
     "data": {
      "text/plain": [
       "<keras.callbacks.History at 0x15670b65070>"
      ]
     },
     "execution_count": 10,
     "metadata": {},
     "output_type": "execute_result"
    }
   ],
   "source": [
    "model.fit(\n",
    "    training_set,\n",
    "    epochs=6,\n",
    "    validation_data=testing_set,\n",
    ")"
   ]
  },
  {
   "cell_type": "code",
   "execution_count": 11,
   "metadata": {},
   "outputs": [],
   "source": [
    "model1 = tf.keras.models.Sequential([\n",
    "  tf.keras.layers.Flatten(input_shape=(28, 28)),\n",
    "  tf.keras.layers.Dense(128, activation='relu'),\n",
    "  tf.keras.layers.Dense(128, activation='relu'),\n",
    "  tf.keras.layers.Dense(64, activation='relu'),\n",
    "  tf.keras.layers.Dense(64, activation='relu'),\n",
    "  tf.keras.layers.Dense(32, activation='relu'),\n",
    "  tf.keras.layers.Dense(10)\n",
    "])"
   ]
  },
  {
   "cell_type": "code",
   "execution_count": 14,
   "metadata": {},
   "outputs": [],
   "source": [
    "model1.compile(\n",
    "    optimizer=tf.keras.optimizers.Adam(0.001),\n",
    "    loss=tf.keras.losses.SparseCategoricalCrossentropy(from_logits=True),\n",
    "    metrics=[tf.keras.metrics.SparseCategoricalAccuracy()],\n",
    ")"
   ]
  },
  {
   "cell_type": "code",
   "execution_count": 15,
   "metadata": {},
   "outputs": [
    {
     "name": "stdout",
     "output_type": "stream",
     "text": [
      "Epoch 1/6\n",
      "469/469 [==============================] - 2s 3ms/step - loss: 0.3479 - sparse_categorical_accuracy: 0.8959 - val_loss: 0.1624 - val_sparse_categorical_accuracy: 0.9480\n",
      "Epoch 2/6\n",
      "469/469 [==============================] - 1s 3ms/step - loss: 0.1240 - sparse_categorical_accuracy: 0.9630 - val_loss: 0.1108 - val_sparse_categorical_accuracy: 0.9662\n",
      "Epoch 3/6\n",
      "469/469 [==============================] - 1s 3ms/step - loss: 0.0878 - sparse_categorical_accuracy: 0.9734 - val_loss: 0.0914 - val_sparse_categorical_accuracy: 0.9730\n",
      "Epoch 4/6\n",
      "469/469 [==============================] - 1s 3ms/step - loss: 0.0656 - sparse_categorical_accuracy: 0.9794 - val_loss: 0.0890 - val_sparse_categorical_accuracy: 0.9741\n",
      "Epoch 5/6\n",
      "469/469 [==============================] - 1s 3ms/step - loss: 0.0535 - sparse_categorical_accuracy: 0.9826 - val_loss: 0.1070 - val_sparse_categorical_accuracy: 0.9685\n",
      "Epoch 6/6\n",
      "469/469 [==============================] - 1s 3ms/step - loss: 0.0427 - sparse_categorical_accuracy: 0.9868 - val_loss: 0.0814 - val_sparse_categorical_accuracy: 0.9755\n"
     ]
    },
    {
     "data": {
      "text/plain": [
       "<keras.callbacks.History at 0x1566e95ddc0>"
      ]
     },
     "execution_count": 15,
     "metadata": {},
     "output_type": "execute_result"
    }
   ],
   "source": [
    "model1.fit(\n",
    "    training_set,\n",
    "    epochs=6,\n",
    "    validation_data=testing_set,\n",
    ")"
   ]
  },
  {
   "cell_type": "code",
   "execution_count": null,
   "metadata": {},
   "outputs": [],
   "source": []
  }
 ],
 "metadata": {
  "kernelspec": {
   "display_name": "Python 3",
   "language": "python",
   "name": "python3"
  },
  "language_info": {
   "codemirror_mode": {
    "name": "ipython",
    "version": 3
   },
   "file_extension": ".py",
   "mimetype": "text/x-python",
   "name": "python",
   "nbconvert_exporter": "python",
   "pygments_lexer": "ipython3",
   "version": "3.7.5"
  }
 },
 "nbformat": 4,
 "nbformat_minor": 5
}
